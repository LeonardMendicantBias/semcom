{
 "cells": [
  {
   "cell_type": "code",
   "execution_count": null,
   "id": "2006b278",
   "metadata": {},
   "outputs": [],
   "source": [
    "import torch\n",
    "\n",
    "from src.vqgan import ViTVQGAN\n",
    "from src.my_model import MaskCode\n",
    "from src.trainer import AttentionMaskModeling"
   ]
  },
  {
   "cell_type": "code",
   "execution_count": null,
   "id": "7f59f502",
   "metadata": {},
   "outputs": [],
   "source": [
    "\n",
    "vitvq = ViTVQGAN.get_vit_vqgan_base()\n",
    "vitvq.init_from_ckpt(\"./checkpoint/imagenet_vitvq_base.ckpt\")\n",
    "\n",
    "dummy_input = torch.randn(1, 3, 256, 256)\n",
    "torch.onnx.export(vitvq, dummy_input, \"vitvqgan.onnx\", export_params=True)\n",
    "print(\"ONNX model saved: vitvqgan.onnx\")"
   ]
  },
  {
   "cell_type": "code",
   "execution_count": null,
   "id": "0ed31943",
   "metadata": {},
   "outputs": [],
   "source": [
    "# optimize the onnx model with TensorRT\n",
    "# trtexec --onnx=resnet18.onnx --saveEngine=resnet18.trt --fp16"
   ]
  },
  {
   "cell_type": "code",
   "execution_count": null,
   "id": "0d6aa2a4",
   "metadata": {},
   "outputs": [],
   "source": [
    "quantized_model = torch.quantization.quantize_dynamic(\n",
    "    model, {torch.nn.Linear}, dtype=torch.qfloat\n",
    ")\n",
    "print(\"Quantized model:\", quantized_model)"
   ]
  }
 ],
 "metadata": {
  "kernelspec": {
   "display_name": "semcom",
   "language": "python",
   "name": "python3"
  },
  "language_info": {
   "name": "python",
   "version": "3.10.18"
  }
 },
 "nbformat": 4,
 "nbformat_minor": 5
}
