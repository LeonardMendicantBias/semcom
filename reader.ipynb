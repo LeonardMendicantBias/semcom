{
 "cells": [
  {
   "cell_type": "code",
   "execution_count": null,
   "id": "60cba2bb",
   "metadata": {},
   "outputs": [],
   "source": [
    "%load_ext autoreload\n",
    "%autoreload 2"
   ]
  },
  {
   "cell_type": "code",
   "execution_count": null,
   "id": "2baca0ab",
   "metadata": {},
   "outputs": [],
   "source": [
    "import pathlib\n",
    "import csv\n",
    "import ffmpeg\n",
    "import math\n",
    "\n",
    "import torch\n",
    "from torch import nn\n",
    "import torch.nn.functional as F\n",
    "from torchcodec.decoders import VideoDecoder\n",
    "from torchvision.transforms import Compose, Resize, Normalize, ToTensor\n",
    "\n",
    "from skimage.transform import resize\n",
    "\n",
    "import matplotlib.pyplot as plt\n",
    "\n",
    "import torch\n",
    "\n",
    "from src.reader.kinetics import KineticDataset\n",
    "\n",
    "from src.vqgan import ViTVQGAN"
   ]
  },
  {
   "cell_type": "code",
   "execution_count": null,
   "id": "c7360433",
   "metadata": {},
   "outputs": [],
   "source": [
    "path = \"E:/kinetics-dataset/k400\"\n",
    "split = \"train\"\n",
    "\n",
    "ds = KineticDataset(\n",
    "    path, split,\n",
    "    n_frames=128,\n",
    ")\n"
   ]
  },
  {
   "cell_type": "code",
   "execution_count": null,
   "id": "17aca5f4",
   "metadata": {},
   "outputs": [],
   "source": [
    "for i, (token, label) in enumerate(ds):\n",
    "\tprint(token.shape)\n",
    "\t\n",
    "\tbreak"
   ]
  },
  {
   "cell_type": "code",
   "execution_count": null,
   "id": "87c5b68a",
   "metadata": {},
   "outputs": [],
   "source": [
    "vitvq = ViTVQGAN(\n",
    "    image_size=256, patch_size=8,\n",
    "    dim=768, depth=12, heads=12,\n",
    "    n_codes=8192, embed_dim=32\n",
    ")\n",
    "vitvq.init_from_ckpt(\"./checkpoint/imagenet_vitvq_base.ckpt\")\n",
    "vitvq.eval()\n",
    "vitvq.cuda()\n",
    "print()"
   ]
  },
  {
   "cell_type": "code",
   "execution_count": null,
   "id": "d93d9368",
   "metadata": {},
   "outputs": [],
   "source": [
    "\n",
    "with torch.no_grad():\n",
    "\tfor i, (token, label) in enumerate(ds):\n",
    "\t\tprint(token.shape)\n",
    "\t\tfor j in range(token.shape[1]):\n",
    "\n",
    "\t\t\toutput = vitvq.decode_codes(torch.tensor(token[j]).unsqueeze(0).cuda())\n",
    "\t\t\toutput_image = output.squeeze(0).permute(1, 2, 0).cpu().numpy()\n",
    "\t\t\toutput_image = output_image.clip(0, 1)\n",
    "\t\t\n",
    "\t\t\tplt.imshow(output_image)\n",
    "\t\t\tplt.axis(\"off\")\n",
    "\t\t\tplt.show()\n",
    "\n",
    "\t\tif i == 10: break\n"
   ]
  },
  {
   "cell_type": "code",
   "execution_count": null,
   "id": "6e3c08c5",
   "metadata": {},
   "outputs": [],
   "source": [
    "plt.imshow(output_image)\n",
    "plt.axis(\"off\")\n",
    "plt.show()"
   ]
  },
  {
   "cell_type": "code",
   "execution_count": null,
   "id": "ba6a7f9d",
   "metadata": {},
   "outputs": [],
   "source": [
    "# double check the reconstruction loss"
   ]
  }
 ],
 "metadata": {
  "kernelspec": {
   "display_name": "semcom",
   "language": "python",
   "name": "python3"
  },
  "language_info": {
   "codemirror_mode": {
    "name": "ipython",
    "version": 3
   },
   "file_extension": ".py",
   "mimetype": "text/x-python",
   "name": "python",
   "nbconvert_exporter": "python",
   "pygments_lexer": "ipython3",
   "version": "3.10.18"
  }
 },
 "nbformat": 4,
 "nbformat_minor": 5
}
