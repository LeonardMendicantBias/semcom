{
 "cells": [
  {
   "cell_type": "code",
   "execution_count": 1,
   "id": "d24d921b",
   "metadata": {},
   "outputs": [],
   "source": [
    "%load_ext autoreload\n",
    "%autoreload 2"
   ]
  },
  {
   "cell_type": "code",
   "execution_count": 2,
   "id": "bb4d7100",
   "metadata": {},
   "outputs": [],
   "source": [
    "import torch\n",
    "from torch import nn\n",
    "import torch.nn.functional as F\n",
    "from torch.utils.data import DataLoader\n",
    "\n",
    "import pytorch_lightning as pl\n",
    "from pytorch_lightning.loggers import WandbLogger\n",
    "from pytorch_lightning.callbacks import ModelCheckpoint\n",
    "\n",
    "import numpy as np\n",
    "from skimage import data\n",
    "from skimage.transform import resize\n",
    "\n",
    "import matplotlib.pyplot as plt\n",
    "\n",
    "import torch\n",
    "\n",
    "from src.reader import KineticDataset, KineticDatasetVideo\n",
    "\n",
    "from src.vqgan import ViTVQGAN\n",
    "from src.my_model import MaskCode, Encoder, Decoder, MaskVideo\n",
    "from src.trainer import AttentionMaskModeling\n",
    "\n",
    "# torch.set_float32_matmul_precision(\"high\")"
   ]
  },
  {
   "cell_type": "code",
   "execution_count": 20,
   "id": "69520599",
   "metadata": {},
   "outputs": [
    {
     "data": {
      "text/plain": [
       "tensor([-65504.], dtype=torch.float16)"
      ]
     },
     "execution_count": 20,
     "metadata": {},
     "output_type": "execute_result"
    }
   ],
   "source": [
    "torch.Tensor([-6.55e4]).half()"
   ]
  },
  {
   "cell_type": "code",
   "execution_count": 3,
   "id": "36bd7e74",
   "metadata": {},
   "outputs": [
    {
     "name": "stdout",
     "output_type": "stream",
     "text": [
      "100\n"
     ]
    }
   ],
   "source": [
    "path = \"/mnt/e/kinetics-dataset/k400\"\n",
    "split = \"train\"\n",
    "\n",
    "# ds = KineticDatasetVideo(\n",
    "#     path, split,\n",
    "#     n_frames=16,\n",
    "# )\n",
    "ds = KineticDatasetVideo.get_ds(path, split, 16)\n",
    "ds_loader = DataLoader(\n",
    "    ds, 2, True, \n",
    "    num_workers=4\n",
    ")"
   ]
  },
  {
   "cell_type": "code",
   "execution_count": 4,
   "id": "beef1bfd",
   "metadata": {},
   "outputs": [
    {
     "data": {
      "text/plain": [
       "torch.Size([2, 16, 3, 256, 256])"
      ]
     },
     "execution_count": 4,
     "metadata": {},
     "output_type": "execute_result"
    }
   ],
   "source": [
    "for batch in ds_loader:\n",
    "    frames, _ = batch\n",
    "    break\n",
    "\n",
    "# _batch = batch[0].cuda(), None\n",
    "B, T, _, H, W = frames.shape\n",
    "frames.shape"
   ]
  },
  {
   "cell_type": "code",
   "execution_count": 5,
   "id": "960bc853",
   "metadata": {},
   "outputs": [],
   "source": [
    "is_finetune = False\n",
    "image_size = (256, 256)\n",
    "patch_size = (8, 8)\n",
    "depth, heads, dim, embed_dim = 12, 12, 768, 32\n",
    "\n",
    "window_size = (3, 3)\n",
    "length, height, width = 32, 32, 32\n",
    "temporal_depth, temporal_heads, temporal_dim = 4, 8, 128\n",
    "n_codes=8192\n",
    "\n",
    "vitvq_path = \"./checkpoint/imagenet_vitvq_base.ckpt\""
   ]
  },
  {
   "cell_type": "code",
   "execution_count": null,
   "id": "3d8c9a6b",
   "metadata": {},
   "outputs": [],
   "source": [
    "lightning_model = AttentionMaskModeling(\n",
    "    model=MaskVideo(\n",
    "        is_finetune=is_finetune,\n",
    "        image_size=image_size, patch_size=patch_size,\n",
    "        depth=depth, heads=heads, dim=dim,\n",
    "        n_codes=n_codes, embed_dim=embed_dim,\n",
    "\n",
    "        window_size=window_size,\n",
    "        length=length, height=height, width=width,\n",
    "        temporal_depth=temporal_depth, temporal_heads=temporal_heads, temporal_dim=temporal_dim,\n",
    "\n",
    "        drop_prob=0.1, depth_prob=0.1,\n",
    "        vitvq_path=vitvq_path\n",
    "\t), \n",
    "    top_p=0.95\n",
    ")\n",
    "lightning_model.cuda()\n",
    "lightning_model.training_step(_batch, 0)\n",
    "\n",
    "# frames, _ = _batch  # (B, T, HW)\n",
    "# mask = lightning_model.get_mask_from_logits(frames)  # (B, T', HW)\n",
    "\n",
    "# _, _, attn_logits = lightning_model.teacher.encoder(frames, None, False)\n",
    "# attn_logits.shape"
   ]
  },
  {
   "cell_type": "code",
   "execution_count": 6,
   "id": "7e085c28",
   "metadata": {},
   "outputs": [
    {
     "name": "stdout",
     "output_type": "stream",
     "text": [
      "\n"
     ]
    }
   ],
   "source": [
    "model = MaskVideo(\n",
    "    is_finetune=is_finetune,\n",
    "    image_size=image_size, patch_size=patch_size,\n",
    "    depth=depth, heads=heads, dim=dim,\n",
    "    n_codes=n_codes, embed_dim=embed_dim,\n",
    "\n",
    "    window_size=window_size,\n",
    "    length=length, height=height, width=width,\n",
    "    temporal_depth=temporal_depth, temporal_heads=temporal_heads, temporal_dim=temporal_dim,\n",
    "\n",
    "    drop_prob=0.1, depth_prob=0.1,\n",
    "    vitvq_path=vitvq_path\n",
    ")\n",
    "model.eval()\n",
    "model.cuda()\n",
    "print()"
   ]
  },
  {
   "cell_type": "code",
   "execution_count": null,
   "id": "db94bdc1",
   "metadata": {},
   "outputs": [],
   "source": [
    "encoder = Encoder(\n",
    "    is_finetune=is_finetune,\n",
    "    image_size=image_size, patch_size=patch_size,\n",
    "    depth=depth, heads=heads, dim=dim,\n",
    "    window_size=window_size,\n",
    "    length=length, height=height, width=width,\n",
    "    temporal_depth=temporal_depth, temporal_heads=temporal_heads, temporal_dim=temporal_dim,\n",
    "    n_codes=n_codes, embed_dim=embed_dim,\n",
    "    drop_prob=0.1, depth_prob=0.1,\n",
    "    vitvq_path=vitvq_path\n",
    ")\n",
    "encoder.cuda()\n",
    "print()"
   ]
  },
  {
   "cell_type": "code",
   "execution_count": 7,
   "id": "39295bc9",
   "metadata": {},
   "outputs": [
    {
     "data": {
      "text/plain": [
       "torch.Size([2, 16, 1024, 8192])"
      ]
     },
     "execution_count": 7,
     "metadata": {},
     "output_type": "execute_result"
    }
   ],
   "source": [
    "model.reset_cache()\n",
    "code_a, logits_a = [], []\n",
    "with torch.autocast(device_type='cuda', dtype=torch.float16):\n",
    "    for t in range(T):\n",
    "        frame = frames[:, t:t+1]  # indexing while keeping dimension\n",
    "\n",
    "        code, logits, _, _ = model(frame.cuda(), None, use_cache=True)\n",
    "        logits_a.append(logits[:, -1])\n",
    "        code_a.append(code[:, -1])\n",
    "\n",
    "        # if t == 3: break\n",
    "\n",
    "code_a = torch.stack(code_a, dim=1)\n",
    "logits_a = torch.stack(logits_a, dim=1)\n",
    "logits_a.shape"
   ]
  },
  {
   "cell_type": "code",
   "execution_count": 8,
   "id": "81d99d58",
   "metadata": {},
   "outputs": [
    {
     "data": {
      "text/plain": [
       "(torch.Size([2, 17, 1024, 8192]), torch.Size([2, 16, 1024]))"
      ]
     },
     "execution_count": 8,
     "metadata": {},
     "output_type": "execute_result"
    }
   ],
   "source": [
    "model.reset_cache()\n",
    "with torch.autocast(device_type='cuda', dtype=torch.float16):\n",
    "    code_b, logits_b, _, _ = model(frames.cuda(), None, use_cache=False)\n",
    "logits_b.shape, code_b.shape"
   ]
  },
  {
   "cell_type": "code",
   "execution_count": null,
   "id": "1b7ef1df",
   "metadata": {},
   "outputs": [],
   "source": [
    "with torch.autocast(device_type='cuda', dtype=torch.float16):\n",
    "    code, logits, attn = encoder(_batch[0])\n",
    "\n",
    "code.shape"
   ]
  },
  {
   "cell_type": "code",
   "execution_count": null,
   "id": "1c39529c",
   "metadata": {},
   "outputs": [],
   "source": [
    "decoder = Decoder(\n",
    "    is_finetune=is_finetune,\n",
    "    image_size=image_size, patch_size=patch_size,\n",
    "    depth=depth, heads=heads, dim=dim,\n",
    "    n_codes=n_codes, embed_dim=embed_dim,\n",
    "    drop_prob=0.1, depth_prob=0.1,\n",
    "    vitvq_path=vitvq_path\n",
    ")\n",
    "decoder.cuda()\n",
    "print()"
   ]
  },
  {
   "cell_type": "code",
   "execution_count": null,
   "id": "752e2fd5",
   "metadata": {},
   "outputs": [],
   "source": [
    "with torch.autocast(device_type='cuda', dtype=torch.float16):\n",
    "    output = decoder(code)\n",
    "output.shape"
   ]
  },
  {
   "cell_type": "code",
   "execution_count": null,
   "id": "48ad1bc3",
   "metadata": {},
   "outputs": [],
   "source": [
    "is_dev = False\n",
    "\n",
    "lightning_model = AttentionMaskModeling(\n",
    "    model=MaskVideo(\n",
    "        is_finetune=is_finetune,\n",
    "        image_size=image_size, patch_size=patch_size,\n",
    "        depth=depth, heads=heads, dim=dim,\n",
    "        n_codes=n_codes, embed_dim=embed_dim,\n",
    "\n",
    "        window_size=window_size,\n",
    "        length=length, height=height, width=width,\n",
    "        temporal_depth=temporal_depth, temporal_heads=temporal_heads, temporal_dim=temporal_dim,\n",
    "\n",
    "        drop_prob=0.1, depth_prob=0.1,\n",
    "        vitvq_path=vitvq_path\n",
    "\t), \n",
    "    top_p=0.95\n",
    ")\n",
    "# wandb_logger = WandbLogger(\n",
    "# \tproject=\"semcom\",\n",
    "# )\n",
    "# wandb_logger.experiment.config.update({\n",
    "#     \"dim\": dim,\n",
    "#     \"depth\": depth\n",
    "# })\n",
    "\n",
    "# torch.compile(lightning_model)\n",
    "trainer = pl.Trainer(\n",
    "    # training settings\n",
    "    max_epochs=25,\n",
    "    val_check_interval=1.0,\n",
    "    accelerator=\"cpu\" if is_dev else \"gpu\",\n",
    "    precision=\"32-true\" if is_dev else \"16-mixed\",\n",
    "    accumulate_grad_batches=1,\n",
    "    gradient_clip_val=1.0,\n",
    "    # logging settings\n",
    "    default_root_dir=f\"./checkpoints\",\n",
    "    # logger=wandb_logger,\n",
    "    callbacks=[\n",
    "        ModelCheckpoint(\n",
    "\t\t\tmonitor=\"train_acc\",\n",
    "\t\t\tdirpath=\"./trained\",\n",
    "\t\t\tfilename=\"semcom-{epoch:02d}-{train_acc:.2f}\",\n",
    "\t\t\tsave_top_k=3,\n",
    "\t\t\tmode=\"max\",\n",
    "\t\t)\n",
    "\t],\n",
    "    # dev setting\n",
    "    fast_dev_run=is_dev,\n",
    ")\n",
    "trainer.fit(\n",
    "    lightning_model, \n",
    "    train_dataloaders=ds_loader,\n",
    "    # val_dataloaders=None,\n",
    ")"
   ]
  }
 ],
 "metadata": {
  "kernelspec": {
   "display_name": "semcom",
   "language": "python",
   "name": "python3"
  },
  "language_info": {
   "codemirror_mode": {
    "name": "ipython",
    "version": 3
   },
   "file_extension": ".py",
   "mimetype": "text/x-python",
   "name": "python",
   "nbconvert_exporter": "python",
   "pygments_lexer": "ipython3",
   "version": "3.10.18"
  }
 },
 "nbformat": 4,
 "nbformat_minor": 5
}
